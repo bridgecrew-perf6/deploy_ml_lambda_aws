{
 "cells": [
  {
   "cell_type": "code",
   "execution_count": 1,
   "id": "aa1fc931",
   "metadata": {},
   "outputs": [],
   "source": [
    "import numpy as np\n",
    "import requests\n",
    "from PIL import Image"
   ]
  },
  {
   "cell_type": "code",
   "execution_count": 2,
   "id": "498b2250",
   "metadata": {},
   "outputs": [],
   "source": [
    "def get_from_url(url):\n",
    "    r = requests.get(url)\n",
    "    path = '/tmp/image.jpeg'\n",
    "\n",
    "    with open(path, 'wb') as f:\n",
    "        f.write(r.content) "
   ]
  },
  {
   "cell_type": "code",
   "execution_count": 3,
   "id": "9c36970b",
   "metadata": {},
   "outputs": [],
   "source": [
    "def preprocess(img, scale=1./255):\n",
    "    return np.float32(img*scale)"
   ]
  },
  {
   "cell_type": "code",
   "execution_count": 4,
   "id": "1bb27e8a",
   "metadata": {},
   "outputs": [],
   "source": [
    "url = 'https://upload.wikimedia.org/wikipedia/commons/9/9a/Pug_600.jpg'\n",
    "#url = 'https://www.nj.com/resizer/mg42jsVYwvbHKUUFQzpw6gyKmBg=/1280x0/smart/advancelocal-adapter-image-uploads.s3.amazonaws.com/image.nj.com/home/njo-media/width2048/img/somerset_impact/photo/sm0212petjpg-7a377c1c93f64d37.jpg'"
   ]
  },
  {
   "cell_type": "code",
   "execution_count": 5,
   "id": "8be279f3",
   "metadata": {},
   "outputs": [],
   "source": [
    "get_from_url(url)"
   ]
  },
  {
   "cell_type": "code",
   "execution_count": 48,
   "id": "62653777",
   "metadata": {},
   "outputs": [],
   "source": [
    "with Image.open('/tmp/image.jpeg') as img:\n",
    "    if img.mode != 'RGB':\n",
    "        img = img.convert('RGB')\n",
    "    img = img.resize((150, 150), Image.NEAREST)"
   ]
  },
  {
   "cell_type": "code",
   "execution_count": 49,
   "id": "f2e71a34",
   "metadata": {},
   "outputs": [
    {
     "data": {
      "text/plain": [
       "dtype('float32')"
      ]
     },
     "execution_count": 49,
     "metadata": {},
     "output_type": "execute_result"
    }
   ],
   "source": [
    "X = preprocess(np.array([np.array(img)]))\n",
    "X.dtype"
   ]
  },
  {
   "cell_type": "code",
   "execution_count": 32,
   "id": "7316e79c",
   "metadata": {},
   "outputs": [],
   "source": [
    "classes = ['cat', 'dog']"
   ]
  },
  {
   "cell_type": "code",
   "execution_count": 33,
   "id": "a111dcd5",
   "metadata": {},
   "outputs": [],
   "source": [
    "import tflite_runtime.interpreter as tflite"
   ]
  },
  {
   "cell_type": "code",
   "execution_count": 34,
   "id": "ec4f01d6",
   "metadata": {},
   "outputs": [],
   "source": [
    "# Load model to interpreter\n",
    "interpreter = tflite.Interpreter(model_path='cat_dog_classifier.tflite')\n",
    "# Load weights\n",
    "interpreter.allocate_tensors()"
   ]
  },
  {
   "cell_type": "code",
   "execution_count": 35,
   "id": "9e614541",
   "metadata": {},
   "outputs": [],
   "source": [
    "# Find input pointer\n",
    "input_index = interpreter.get_input_details()[0]['index']"
   ]
  },
  {
   "cell_type": "code",
   "execution_count": 36,
   "id": "00138c3a",
   "metadata": {},
   "outputs": [],
   "source": [
    "# Find output pointer\n",
    "output_index = interpreter.get_output_details()[0]['index']"
   ]
  },
  {
   "cell_type": "code",
   "execution_count": 50,
   "id": "158e61a9",
   "metadata": {},
   "outputs": [],
   "source": [
    "# Load data into input\n",
    "interpreter.set_tensor(input_index, X)"
   ]
  },
  {
   "cell_type": "code",
   "execution_count": 51,
   "id": "834533a6",
   "metadata": {},
   "outputs": [],
   "source": [
    "# Run inference\n",
    "interpreter.invoke()"
   ]
  },
  {
   "cell_type": "code",
   "execution_count": 52,
   "id": "945885ac",
   "metadata": {},
   "outputs": [],
   "source": [
    "# Load output into memory\n",
    "lite_pred = interpreter.get_tensor(output_index)"
   ]
  },
  {
   "cell_type": "code",
   "execution_count": 53,
   "id": "b34234f4",
   "metadata": {},
   "outputs": [
    {
     "data": {
      "text/plain": [
       "{'cat': 0.04546636343002319, 'dog': 0.9545336365699768}"
      ]
     },
     "execution_count": 53,
     "metadata": {},
     "output_type": "execute_result"
    }
   ],
   "source": [
    "dict(zip(classes, (np.array([1-lite_pred[0][0], lite_pred[0][0]])).tolist()))"
   ]
  },
  {
   "cell_type": "code",
   "execution_count": null,
   "id": "cc079b8a",
   "metadata": {},
   "outputs": [],
   "source": []
  }
 ],
 "metadata": {
  "kernelspec": {
   "display_name": "Python 3 (ipykernel)",
   "language": "python",
   "name": "python3"
  },
  "language_info": {
   "codemirror_mode": {
    "name": "ipython",
    "version": 3
   },
   "file_extension": ".py",
   "mimetype": "text/x-python",
   "name": "python",
   "nbconvert_exporter": "python",
   "pygments_lexer": "ipython3",
   "version": "3.8.12"
  }
 },
 "nbformat": 4,
 "nbformat_minor": 5
}
